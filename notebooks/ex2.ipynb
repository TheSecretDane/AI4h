{
 "cells": [
  {
   "cell_type": "code",
   "execution_count": 2,
   "id": "5e23215c",
   "metadata": {},
   "outputs": [],
   "source": [
    "from sklearn.datasets import load_iris\n",
    "from sklearn.model_selection import train_test_split\n",
    "from ai4h.models.tree import build_tree, gini\n",
    "\n",
    "\n",
    "X, y = load_iris(return_X_y=True)\n",
    "X_train, X_test, y_train, y_test = train_test_split(X, y, random_state=2025, train_size=0.8)\n",
    "tree = build_tree(X_train, y_train, impurity_fn=gini, min_samples_leaf=5)"
   ]
  },
  {
   "cell_type": "code",
   "execution_count": 4,
   "id": "e843ecab",
   "metadata": {},
   "outputs": [
    {
     "name": "stdout",
     "output_type": "stream",
     "text": [
      "Node(f2<=2.45, n=120)\n",
      "  Leaf(pred=0.00, n=36)\n",
      "  Node(f3<=1.75, n=84)\n",
      "    Node(f2<=4.85, n=49)\n",
      "      Node(f0<=5.30, n=43)\n",
      "        Leaf(pred=1.00, n=6)\n",
      "        Leaf(pred=1.00, n=37)\n",
      "      Leaf(pred=1.00, n=6)\n",
      "    Leaf(pred=2.00, n=35)\n",
      "\n"
     ]
    }
   ],
   "source": [
    "print(tree.pretty())"
   ]
  },
  {
   "cell_type": "code",
   "execution_count": 10,
   "id": "3a747b9d",
   "metadata": {},
   "outputs": [
    {
     "name": "stdout",
     "output_type": "stream",
     "text": [
      "Mnist data saved to C:\\Users\\mathi\\OneDrive - University of Copenhagen\\Kandidat\\3. Semester\\AI For Humanity\\exercises\\src\\data\n"
     ]
    }
   ],
   "source": [
    "import ai4h.models.network\n",
    "ai4h.models.network.download_mnist()"
   ]
  }
 ],
 "metadata": {
  "kernelspec": {
   "display_name": "exercises",
   "language": "python",
   "name": "python3"
  },
  "language_info": {
   "codemirror_mode": {
    "name": "ipython",
    "version": 3
   },
   "file_extension": ".py",
   "mimetype": "text/x-python",
   "name": "python",
   "nbconvert_exporter": "python",
   "pygments_lexer": "ipython3",
   "version": "3.13.7"
  }
 },
 "nbformat": 4,
 "nbformat_minor": 5
}
