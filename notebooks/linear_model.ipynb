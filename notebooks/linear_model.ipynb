{
 "cells": [
  {
   "cell_type": "code",
   "execution_count": 1,
   "id": "d87604e8-76a7-49d2-bac7-7cf45640553e",
   "metadata": {},
   "outputs": [
    {
     "ename": "NameError",
     "evalue": "name 'Tuple' is not defined",
     "output_type": "error",
     "traceback": [
      "\u001b[31m---------------------------------------------------------------------------\u001b[39m",
      "\u001b[31mNameError\u001b[39m                                 Traceback (most recent call last)",
      "\u001b[36mCell\u001b[39m\u001b[36m \u001b[39m\u001b[32mIn[1]\u001b[39m\u001b[32m, line 1\u001b[39m\n\u001b[32m----> \u001b[39m\u001b[32m1\u001b[39m \u001b[38;5;28;01mfrom\u001b[39;00m\u001b[38;5;250m \u001b[39m\u001b[34;01mai4h\u001b[39;00m\u001b[34;01m.\u001b[39;00m\u001b[34;01mmodels\u001b[39;00m\u001b[38;5;250m \u001b[39m\u001b[38;5;28;01mimport\u001b[39;00m linear_model\n\u001b[32m      2\u001b[39m linear_model.test()\n",
      "\u001b[36mFile \u001b[39m\u001b[32m~\\OneDrive - University of Copenhagen\\Kandidat\\3. Semester\\AI For Humanity\\exercises\\src\\ai4h\\models\\linear_model.py:35\u001b[39m\n\u001b[32m     28\u001b[39m         out[~pos] = ez / (\u001b[32m1.0\u001b[39m + ez)\n\u001b[32m     29\u001b[39m     \u001b[38;5;28;01mreturn\u001b[39;00m out\n\u001b[32m     31\u001b[39m \u001b[38;5;28;01mdef\u001b[39;00m\u001b[38;5;250m \u001b[39m\u001b[34mgenerate_logreg_data\u001b[39m(\n\u001b[32m     32\u001b[39m     n: \u001b[38;5;28mint\u001b[39m,\n\u001b[32m     33\u001b[39m     beta: np.ndarray,\n\u001b[32m     34\u001b[39m     seed: \u001b[38;5;28mint\u001b[39m = \u001b[32m0\u001b[39m\n\u001b[32m---> \u001b[39m\u001b[32m35\u001b[39m ) -> \u001b[43mTuple\u001b[49m[np.ndarray, np.ndarray]:\n\u001b[32m     36\u001b[39m \u001b[38;5;250m    \u001b[39m\u001b[33;03m\"\"\"\u001b[39;00m\n\u001b[32m     37\u001b[39m \u001b[33;03m    Simulate logistic regression data.\u001b[39;00m\n\u001b[32m     38\u001b[39m \n\u001b[32m   (...)\u001b[39m\u001b[32m     43\u001b[39m \u001b[33;03m    beta is length p+1 (intercept first).\u001b[39;00m\n\u001b[32m     44\u001b[39m \u001b[33;03m    \"\"\"\u001b[39;00m\n\u001b[32m     45\u001b[39m     beta = np.asarray(beta, dtype=\u001b[38;5;28mfloat\u001b[39m).ravel()\n",
      "\u001b[31mNameError\u001b[39m: name 'Tuple' is not defined"
     ]
    }
   ],
   "source": [
    "from ai4h.models import linear_model\n",
    "linear_model.test()"
   ]
  },
  {
   "cell_type": "markdown",
   "id": "cd3528f7",
   "metadata": {},
   "source": [
    "## Exercise 4 - Math hell from the get go, yessirrr"
   ]
  },
  {
   "cell_type": "markdown",
   "id": "a61f9343",
   "metadata": {},
   "source": [
    "Done with pen and paper. Fuck katex. "
   ]
  },
  {
   "cell_type": "markdown",
   "id": "9cf1dfc6",
   "metadata": {},
   "source": [
    "## Exercise 5 - test implementation logistic regression and IRLS"
   ]
  },
  {
   "cell_type": "code",
   "execution_count": 19,
   "id": "df9daa0c",
   "metadata": {},
   "outputs": [
    {
     "name": "stdout",
     "output_type": "stream",
     "text": [
      "shapes: (10000, 3) (10000,)\n",
      "sigmoid test: [0.         0.11920292 0.5        0.95257413 1.        ]\n"
     ]
    }
   ],
   "source": [
    "# cell / script: simulate, fit, inspect\n",
    "import numpy as np\n",
    "from importlib import reload\n",
    "\n",
    "# import your module (reload so notebook picks up changes)\n",
    "from ai4h.models import linear_model\n",
    "reload(linear_model)\n",
    "\n",
    "# 1) simulate\n",
    "n = 10_000\n",
    "beta_true = np.array([1.0, 1.0, -1.0])   # intercept + two covariates\n",
    "X, y = linear_model.generate_logreg_data(n, beta_true)\n",
    "\n",
    "print(\"shapes:\", X.shape, y.shape)\n",
    "print(\"sigmoid test:\", linear_model.expit(np.array([-1000., -2., 0., 3., 1000.])))\n"
   ]
  },
  {
   "cell_type": "code",
   "execution_count": 24,
   "id": "5cc351ed",
   "metadata": {},
   "outputs": [
    {
     "name": "stdout",
     "output_type": "stream",
     "text": [
      "Converged: True\n",
      "Iterations: 6\n",
      "Estimates: [ 0.99101948  0.94728109 -0.93985356]\n"
     ]
    }
   ],
   "source": [
    "reload(linear_model)\n",
    "n = 10_000\n",
    "logreg = linear_model.LogisticRegression()\n",
    "beta = np.array([1, 1.0, -1.0])\n",
    "X, y = linear_model.generate_logreg_data(n, beta, seed=42)\n",
    "\n",
    "logreg.fit(X, y)\n",
    "print(\"Converged:\", logreg.converged_)\n",
    "print(\"Iterations:\", logreg.n_iter_)\n",
    "print(\"Estimates:\", logreg.coef_)"
   ]
  }
 ],
 "metadata": {
  "kernelspec": {
   "display_name": "exercises",
   "language": "python",
   "name": "python3"
  },
  "language_info": {
   "codemirror_mode": {
    "name": "ipython",
    "version": 3
   },
   "file_extension": ".py",
   "mimetype": "text/x-python",
   "name": "python",
   "nbconvert_exporter": "python",
   "pygments_lexer": "ipython3",
   "version": "3.13.7"
  }
 },
 "nbformat": 4,
 "nbformat_minor": 5
}
